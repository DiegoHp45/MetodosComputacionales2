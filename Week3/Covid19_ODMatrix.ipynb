{
 "cells": [
  {
   "cell_type": "code",
   "execution_count": 1,
   "id": "390327ce",
   "metadata": {},
   "outputs": [],
   "source": [
    "import numpy as np\n",
    "import matplotlib.pyplot as plt\n",
    "from matplotlib import rc\n",
    "from tqdm import tqdm"
   ]
  },
  {
   "cell_type": "code",
   "execution_count": null,
   "id": "ec80ada2",
   "metadata": {},
   "outputs": [],
   "source": []
  },
  {
   "cell_type": "code",
   "execution_count": null,
   "id": "305d732e",
   "metadata": {},
   "outputs": [],
   "source": []
  },
  {
   "cell_type": "code",
   "execution_count": null,
   "id": "cb724a52",
   "metadata": {},
   "outputs": [],
   "source": []
  },
  {
   "cell_type": "code",
   "execution_count": null,
   "id": "89a4d9ec",
   "metadata": {},
   "outputs": [],
   "source": []
  },
  {
   "cell_type": "code",
   "execution_count": null,
   "id": "2d4ff810",
   "metadata": {},
   "outputs": [],
   "source": []
  },
  {
   "cell_type": "code",
   "execution_count": 2,
   "id": "a0b22dc4",
   "metadata": {},
   "outputs": [
    {
     "name": "stdout",
     "output_type": "stream",
     "text": [
      "[[0.4      0.25     0.266667]\n",
      " [0.2      0.4      0.4     ]\n",
      " [0.4      0.35     0.333333]]\n"
     ]
    }
   ],
   "source": [
    "alpha = 1\n",
    "I = np.array([ [1.,0,0],[0,1.,0],[0,0,1.] ])\n",
    "Fout = np.array( [ [3./5.,0,0],[0,12./20.,0],[0,0,2./3.] ])\n",
    "Fin = np.array( [ [0.,5./20.,8./30.],[1./5.,0.,12./30.],[2./5.,7./20.,0.] ])\n",
    "\n",
    "T = I + alpha*(-Fout + Fin)\n",
    "print(np.round(T,6))"
   ]
  },
  {
   "cell_type": "code",
   "execution_count": null,
   "id": "b1939e27",
   "metadata": {},
   "outputs": [],
   "source": []
  }
 ],
 "metadata": {
  "kernelspec": {
   "display_name": "Python 3",
   "language": "python",
   "name": "python3"
  },
  "language_info": {
   "codemirror_mode": {
    "name": "ipython",
    "version": 3
   },
   "file_extension": ".py",
   "mimetype": "text/x-python",
   "name": "python",
   "nbconvert_exporter": "python",
   "pygments_lexer": "ipython3",
   "version": "3.8.2"
  }
 },
 "nbformat": 4,
 "nbformat_minor": 5
}
