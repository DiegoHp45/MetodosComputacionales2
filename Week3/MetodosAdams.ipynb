{
 "cells": [
  {
   "cell_type": "code",
   "execution_count": 2,
   "id": "8e84a496",
   "metadata": {},
   "outputs": [],
   "source": [
    "import numpy as np\n",
    "import matplotlib.pyplot as plt\n",
    "from matplotlib import rc\n",
    "from tqdm import tqdm"
   ]
  },
  {
   "cell_type": "code",
   "execution_count": 3,
   "id": "9d3c4a40",
   "metadata": {},
   "outputs": [],
   "source": [
    "def f(x,y):\n",
    "    return x + 2*y"
   ]
  },
  {
   "cell_type": "code",
   "execution_count": 4,
   "id": "ff47a2de",
   "metadata": {},
   "outputs": [],
   "source": [
    "def Solucion(x):\n",
    "    return -0.5*x - (1 - np.exp(2*x))/4."
   ]
  },
  {
   "cell_type": "code",
   "execution_count": null,
   "id": "27412096",
   "metadata": {},
   "outputs": [],
   "source": []
  },
  {
   "cell_type": "code",
   "execution_count": null,
   "id": "f8b1c09a",
   "metadata": {},
   "outputs": [],
   "source": []
  },
  {
   "cell_type": "code",
   "execution_count": 7,
   "id": "9467b193",
   "metadata": {},
   "outputs": [],
   "source": [
    "def GetRK4(f,r0,t, init = False, Npoints = 4):\n",
    "    \n",
    "    h = (t[-1] - t[0])/(len(t)-1)\n",
    "    \n",
    "    y = np.zeros(len(t))\n",
    "    \n",
    "    \n",
    "    return y"
   ]
  },
  {
   "cell_type": "code",
   "execution_count": null,
   "id": "cb75b079",
   "metadata": {},
   "outputs": [],
   "source": []
  }
 ],
 "metadata": {
  "kernelspec": {
   "display_name": "Python 3",
   "language": "python",
   "name": "python3"
  },
  "language_info": {
   "codemirror_mode": {
    "name": "ipython",
    "version": 3
   },
   "file_extension": ".py",
   "mimetype": "text/x-python",
   "name": "python",
   "nbconvert_exporter": "python",
   "pygments_lexer": "ipython3",
   "version": "3.8.2"
  }
 },
 "nbformat": 4,
 "nbformat_minor": 5
}
