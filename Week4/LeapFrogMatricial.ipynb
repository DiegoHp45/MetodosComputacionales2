{
 "cells": [
  {
   "cell_type": "code",
   "execution_count": 1,
   "id": "e0fb0217",
   "metadata": {},
   "outputs": [],
   "source": [
    "import numpy as np\n",
    "import matplotlib.pyplot as plt\n",
    "from matplotlib import rc"
   ]
  },
  {
   "cell_type": "markdown",
   "id": "5b36f29c",
   "metadata": {},
   "source": [
    "# Leap-frog (matrix form)\n",
    "\n",
    "$$ \\frac{d^{2}x}{dt^{2}} + \\pi^{2}x = 0 $$\n",
    "\n",
    "Con condiciones iniciales:\n",
    "\n",
    "$$ x(0) = 1, \\dot{x}(0) = 0 $$ \n",
    "\n",
    "$$ U = \\begin{pmatrix} x \\\\ \\dot{x} \\end{pmatrix} $$ \n",
    "\n",
    "Tomemos la derivada de este vector y usemos la ecuacion diferencial:\n",
    "\n",
    "$$ \\frac{dU}{dt} = \\begin{pmatrix} \\dot{x} \\\\ \\ddot{x} \\end{pmatrix} =\\begin{pmatrix} \\dot{x} \\\\ -\\pi^{2}x \\end{pmatrix} =  \\begin{pmatrix} 0 & 1 \\\\ -\\pi^{2} & 0 \\\\ \\end{pmatrix} \\begin{pmatrix} x \\\\ \\dot{x} \\end{pmatrix} = JU = F(U)$$ \n",
    "\n",
    "Donde $J$ es la matriz simpléctica del sistema. \n",
    "\n",
    "Usemos el esquema de leapfrog para calcular la evolución del sistema $n \\ge 1$.\n",
    "\n",
    "$$ U^{n+1} = U^{n-1} + 2\\Delta t F(U^{n})$$ \n",
    "\n",
    "Para poder arrancar el método necestiamos el esquema de un paso (Euler explícito).\n",
    "\n",
    "$$ U^{1} = U^{0} + \\Delta t F(U^{0})$$ \n",
    "\n",
    "dado que tenemos $ U^{0}$\n",
    "\n",
    "$$ U^{0} = \\begin{pmatrix} 1 \\\\ 0 \\end{pmatrix} $$"
   ]
  },
  {
   "cell_type": "code",
   "execution_count": null,
   "id": "35c14963",
   "metadata": {},
   "outputs": [],
   "source": []
  }
 ],
 "metadata": {
  "kernelspec": {
   "display_name": "Python 3",
   "language": "python",
   "name": "python3"
  },
  "language_info": {
   "codemirror_mode": {
    "name": "ipython",
    "version": 3
   },
   "file_extension": ".py",
   "mimetype": "text/x-python",
   "name": "python",
   "nbconvert_exporter": "python",
   "pygments_lexer": "ipython3",
   "version": "3.8.2"
  }
 },
 "nbformat": 4,
 "nbformat_minor": 5
}
