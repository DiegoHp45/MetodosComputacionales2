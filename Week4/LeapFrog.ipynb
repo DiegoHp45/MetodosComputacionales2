{
 "cells": [
  {
   "cell_type": "code",
   "execution_count": 1,
   "id": "3aa7eedc",
   "metadata": {},
   "outputs": [],
   "source": [
    " #%matplotlib notebook\n",
    "import numpy as np\n",
    "import matplotlib.pyplot as plt\n",
    "from matplotlib import rc"
   ]
  },
  {
   "cell_type": "markdown",
   "id": "d5de12bc",
   "metadata": {},
   "source": [
    "# Método leapfrog\n",
    "\n",
    "$$ \\vec{a}(t) = F(x(t)) $$\n",
    "\n",
    "$$ \\vec{v}_{n+1/2} = \\vec{v}_{n-1/2} + \\vec{a}(x_{n})\\Delta t $$\n",
    "\n",
    "$$ \\vec{v}(t + \\Delta t/2) = \\vec{v}(t - \\Delta t/2) + \\vec{a}(t)\\Delta t $$\n",
    "\n",
    "$$ \\vec{r}_{n+1} = \\vec{r}_{n} + \\vec{v}_{n+1/2} \\Delta t $$\n",
    "\n",
    "$$ \\vec{r}(t+\\Delta t) = \\vec{r}(t) + \\vec{v}(t + \\Delta t/2) \\Delta t $$\n",
    "\n",
    "Para iniciar el método necesitamos $\\vec{v}_{-1/2}$, el cuál lo podemos inicializar con el método de Euler.\n",
    "\n",
    "$$ \\vec{v}_{-1/2} = \\vec{v}(0) - \\Delta t/2 \\vec{a}(0)  $$"
   ]
  },
  {
   "cell_type": "code",
   "execution_count": null,
   "id": "3d122c1e",
   "metadata": {},
   "outputs": [],
   "source": []
  }
 ],
 "metadata": {
  "kernelspec": {
   "display_name": "Python 3",
   "language": "python",
   "name": "python3"
  },
  "language_info": {
   "codemirror_mode": {
    "name": "ipython",
    "version": 3
   },
   "file_extension": ".py",
   "mimetype": "text/x-python",
   "name": "python",
   "nbconvert_exporter": "python",
   "pygments_lexer": "ipython3",
   "version": "3.8.2"
  }
 },
 "nbformat": 4,
 "nbformat_minor": 5
}
