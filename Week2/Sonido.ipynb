{
 "cells": [
  {
   "cell_type": "code",
   "execution_count": 1,
   "id": "c95a75c5",
   "metadata": {},
   "outputs": [],
   "source": [
    "import numpy as np\n",
    "import matplotlib.pyplot as plt\n",
    "import scipy.io.wavfile as wav\n",
    "import os.path as path\n",
    "import wget"
   ]
  },
  {
   "cell_type": "code",
   "execution_count": 2,
   "id": "1351a23d",
   "metadata": {},
   "outputs": [],
   "source": [
    "def LoadFiles(file,url):\n",
    "    if not path.exists(file):\n",
    "        Path_ = wget.download(url,file)\n",
    "        print('File loaded')\n",
    "    else:\n",
    "        Path_ = file\n",
    "        \n",
    "    return Path_"
   ]
  },
  {
   "cell_type": "code",
   "execution_count": 3,
   "id": "95a8081c",
   "metadata": {},
   "outputs": [],
   "source": [
    "file = 'Data/Do.wav'\n",
    "url = 'https://github.com/asegura4488/DataBase/blob/main/MetodosComputacionales/Do.wav'\n",
    "file1 = 'Data/Sol.wav'\n",
    "url1 = 'https://github.com/asegura4488/DataBase/blob/main/MetodosComputacionales/Sol.wav'"
   ]
  },
  {
   "cell_type": "code",
   "execution_count": null,
   "id": "0a7f3c5a",
   "metadata": {},
   "outputs": [],
   "source": []
  }
 ],
 "metadata": {
  "kernelspec": {
   "display_name": "Python 3",
   "language": "python",
   "name": "python3"
  },
  "language_info": {
   "codemirror_mode": {
    "name": "ipython",
    "version": 3
   },
   "file_extension": ".py",
   "mimetype": "text/x-python",
   "name": "python",
   "nbconvert_exporter": "python",
   "pygments_lexer": "ipython3",
   "version": "3.8.2"
  }
 },
 "nbformat": 4,
 "nbformat_minor": 5
}
