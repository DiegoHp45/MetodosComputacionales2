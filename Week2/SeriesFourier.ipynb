{
 "cells": [
  {
   "cell_type": "code",
   "execution_count": 2,
   "id": "748f9d6f",
   "metadata": {},
   "outputs": [],
   "source": [
    "%matplotlib notebook \n",
    "import numpy as np\n",
    "import matplotlib.pyplot as plt\n",
    "from celluloid import Camera\n",
    "import scipy as sp\n",
    "from scipy import integrate"
   ]
  },
  {
   "cell_type": "markdown",
   "id": "7ed49215",
   "metadata": {},
   "source": [
    "$$ f(x) = \\frac{4}{\\pi} \\sum_{n=1,3,5,...}^{\\infty} \\frac{1}{n} sin(\\frac{n\\pi x}{L})  $$\n",
    "\n",
    "$$ f(x) = \\frac{8}{\\pi} \\sum_{n=1,3,5,...}^{\\infty} \\frac{1}{n^{2}} cos(\\frac{n\\pi x}{L}) $$"
   ]
  },
  {
   "cell_type": "code",
   "execution_count": null,
   "id": "098d02ef",
   "metadata": {},
   "outputs": [],
   "source": []
  },
  {
   "cell_type": "code",
   "execution_count": null,
   "id": "d8b671f7",
   "metadata": {},
   "outputs": [],
   "source": []
  },
  {
   "cell_type": "code",
   "execution_count": null,
   "id": "3bf08306",
   "metadata": {},
   "outputs": [],
   "source": []
  },
  {
   "cell_type": "code",
   "execution_count": null,
   "id": "7004539e",
   "metadata": {},
   "outputs": [],
   "source": []
  },
  {
   "cell_type": "code",
   "execution_count": null,
   "id": "121111ed",
   "metadata": {},
   "outputs": [],
   "source": []
  },
  {
   "cell_type": "markdown",
   "id": "e3c4b3ee",
   "metadata": {},
   "source": [
    "$$ y(t)=t,  \\ -1 < t < 1  $$\n",
    "\n",
    "$$ y(t) = \\left\\{ \\begin{array}{cc}\n",
    "1 & -1 < t < 0 \\\\\n",
    "0 &  0 < t < 1 \\\\\n",
    "\\end{array}\n",
    "\\right.\n",
    "$$"
   ]
  },
  {
   "cell_type": "code",
   "execution_count": null,
   "id": "0454c10c",
   "metadata": {},
   "outputs": [],
   "source": []
  }
 ],
 "metadata": {
  "kernelspec": {
   "display_name": "Python 3",
   "language": "python",
   "name": "python3"
  },
  "language_info": {
   "codemirror_mode": {
    "name": "ipython",
    "version": 3
   },
   "file_extension": ".py",
   "mimetype": "text/x-python",
   "name": "python",
   "nbconvert_exporter": "python",
   "pygments_lexer": "ipython3",
   "version": "3.8.2"
  }
 },
 "nbformat": 4,
 "nbformat_minor": 5
}
